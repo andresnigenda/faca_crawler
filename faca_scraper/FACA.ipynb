{
 "cells": [
  {
   "cell_type": "code",
   "execution_count": 1,
   "metadata": {},
   "outputs": [],
   "source": [
    "import pandas as pd\n",
    "import numpy as np"
   ]
  },
  {
   "cell_type": "code",
   "execution_count": 6,
   "metadata": {},
   "outputs": [],
   "source": [
    "# raw dataframe\n",
    "df = pd.read_csv('facaspider_links.csv')\n",
    "# targeted agencies for FACA tracking\n",
    "agencies = ['Environmental Protection Agency', 'Department of the Interior',\n",
    "            'Department of Health and Human Services', 'Department of Education',\n",
    "            'Small Business Administration', 'National Aeronautics and Space Administration',\n",
    "            'Department of Commerce', 'General Services Administration',\n",
    "            'Department of Energy']"
   ]
  },
  {
   "cell_type": "code",
   "execution_count": 7,
   "metadata": {},
   "outputs": [],
   "source": [
    "# filtering out committees that have been terminated\n",
    "faca_df = df[df.status != 'Terminated']\n",
    "# filtering out targeted agencies\n",
    "faca_df = faca_df[faca_df.agency.isin(agencies)]\n",
    "# filtering columns we care about\n",
    "faca_df = faca_df[['agency', 'name', 'committee_url']]\n",
    "# filtering committees for which we have a url\n",
    "faca_df = faca_df[faca_df.committee_url.str.contains(\"http\")]"
   ]
  },
  {
   "cell_type": "code",
   "execution_count": 8,
   "metadata": {},
   "outputs": [
    {
     "data": {
      "text/html": [
       "<div>\n",
       "<style scoped>\n",
       "    .dataframe tbody tr th:only-of-type {\n",
       "        vertical-align: middle;\n",
       "    }\n",
       "\n",
       "    .dataframe tbody tr th {\n",
       "        vertical-align: top;\n",
       "    }\n",
       "\n",
       "    .dataframe thead th {\n",
       "        text-align: right;\n",
       "    }\n",
       "</style>\n",
       "<table border=\"1\" class=\"dataframe\">\n",
       "  <thead>\n",
       "    <tr style=\"text-align: right;\">\n",
       "      <th></th>\n",
       "      <th>agency</th>\n",
       "      <th>name</th>\n",
       "      <th>committee_url</th>\n",
       "    </tr>\n",
       "  </thead>\n",
       "  <tbody>\n",
       "    <tr>\n",
       "      <th>46</th>\n",
       "      <td>Small Business Administration</td>\n",
       "      <td>Region X Small Business Regulatory Fairness Board</td>\n",
       "      <td>http://www.sba.gov/ombudsman</td>\n",
       "    </tr>\n",
       "    <tr>\n",
       "      <th>48</th>\n",
       "      <td>Small Business Administration</td>\n",
       "      <td>Region VI Small Business Regulatory Fairness B...</td>\n",
       "      <td>http://www.sba.gov/ombudsman</td>\n",
       "    </tr>\n",
       "    <tr>\n",
       "      <th>49</th>\n",
       "      <td>Small Business Administration</td>\n",
       "      <td>Region VIII Small Business Regulatory Fairness...</td>\n",
       "      <td>http://www.sba.gov/ombudsman</td>\n",
       "    </tr>\n",
       "    <tr>\n",
       "      <th>50</th>\n",
       "      <td>Small Business Administration</td>\n",
       "      <td>Region VII Small Business Regulatory Fairness ...</td>\n",
       "      <td>http://www.sba.gov/ombudsman</td>\n",
       "    </tr>\n",
       "    <tr>\n",
       "      <th>51</th>\n",
       "      <td>Small Business Administration</td>\n",
       "      <td>Region V Small Business Regulatory Fairness Board</td>\n",
       "      <td>http://www.sba.gov/ombudsman</td>\n",
       "    </tr>\n",
       "  </tbody>\n",
       "</table>\n",
       "</div>"
      ],
      "text/plain": [
       "                           agency  \\\n",
       "46  Small Business Administration   \n",
       "48  Small Business Administration   \n",
       "49  Small Business Administration   \n",
       "50  Small Business Administration   \n",
       "51  Small Business Administration   \n",
       "\n",
       "                                                 name  \\\n",
       "46  Region X Small Business Regulatory Fairness Board   \n",
       "48  Region VI Small Business Regulatory Fairness B...   \n",
       "49  Region VIII Small Business Regulatory Fairness...   \n",
       "50  Region VII Small Business Regulatory Fairness ...   \n",
       "51  Region V Small Business Regulatory Fairness Board   \n",
       "\n",
       "                   committee_url  \n",
       "46  http://www.sba.gov/ombudsman  \n",
       "48  http://www.sba.gov/ombudsman  \n",
       "49  http://www.sba.gov/ombudsman  \n",
       "50  http://www.sba.gov/ombudsman  \n",
       "51  http://www.sba.gov/ombudsman  "
      ]
     },
     "execution_count": 8,
     "metadata": {},
     "output_type": "execute_result"
    }
   ],
   "source": [
    "faca_df.head()"
   ]
  },
  {
   "cell_type": "code",
   "execution_count": 9,
   "metadata": {},
   "outputs": [],
   "source": [
    "faca_df.to_csv('clean_faca.csv', index=False)"
   ]
  },
  {
   "cell_type": "code",
   "execution_count": null,
   "metadata": {},
   "outputs": [],
   "source": []
  }
 ],
 "metadata": {
  "kernelspec": {
   "display_name": "Python 3",
   "language": "python",
   "name": "python3"
  },
  "language_info": {
   "codemirror_mode": {
    "name": "ipython",
    "version": 3
   },
   "file_extension": ".py",
   "mimetype": "text/x-python",
   "name": "python",
   "nbconvert_exporter": "python",
   "pygments_lexer": "ipython3",
   "version": "3.7.3"
  }
 },
 "nbformat": 4,
 "nbformat_minor": 2
}
